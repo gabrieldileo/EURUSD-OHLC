{
 "cells": [
  {
   "cell_type": "code",
   "execution_count": null,
   "metadata": {},
   "outputs": [],
   "source": [
    "import pickle\n",
    "import numpy as np\n",
    "import pandas as pd\n",
    "import matplotlib.pyplot as plt\n",
    "import mplfinance as mpf\n",
    "from mpl_finance import candlestick_ohlc\n",
    "#%matplotlib inline"
   ]
  },
  {
   "cell_type": "code",
   "execution_count": null,
   "metadata": {
    "scrolled": true
   },
   "outputs": [],
   "source": [
    "df = pd.read_csv(\"EURUSD.csv\")"
   ]
  },
  {
   "cell_type": "code",
   "execution_count": null,
   "metadata": {},
   "outputs": [],
   "source": [
    "df.rename(columns={'EURUSD':'date'}, inplace=True)"
   ]
  },
  {
   "cell_type": "code",
   "execution_count": null,
   "metadata": {},
   "outputs": [],
   "source": [
    "df['n'] = range(1, len(df) + 1)"
   ]
  },
  {
   "cell_type": "code",
   "execution_count": null,
   "metadata": {},
   "outputs": [],
   "source": [
    "df"
   ]
  },
  {
   "cell_type": "code",
   "execution_count": null,
   "metadata": {},
   "outputs": [],
   "source": [
    "window = 3\n",
    "\n",
    "for i in range(len(df)-window-1):\n",
    "    a = i + window\n",
    "    up = df.iloc[a-window:a+1,:]['Close'].iloc[-1] > df.iloc[a-window:a,:]['Close'].iloc[-1]\n",
    "    quotes = [tuple(x) for x in df.iloc[a-window:a,:][['n','Open','High','Low','Close']].values]\n",
    "    fig, ax = plt.subplots()\n",
    "    candlestick_ohlc(ax, quotes, width=0.5, colorup='g', colordown='r');\n",
    "    if up:\n",
    "        name = 'up' + str(i)\n",
    "    else:\n",
    "        name = 'down' + str(i)    \n",
    "    \n",
    "    plt.savefig(name +'.png')\n",
    "    "
   ]
  }
 ],
 "metadata": {
  "kernelspec": {
   "display_name": "Python 3",
   "language": "python",
   "name": "python3"
  },
  "language_info": {
   "codemirror_mode": {
    "name": "ipython",
    "version": 3
   },
   "file_extension": ".py",
   "mimetype": "text/x-python",
   "name": "python",
   "nbconvert_exporter": "python",
   "pygments_lexer": "ipython3",
   "version": "3.7.4"
  }
 },
 "nbformat": 4,
 "nbformat_minor": 2
}
